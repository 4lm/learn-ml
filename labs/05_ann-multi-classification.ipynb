{
 "cells": [
  {
   "cell_type": "markdown",
   "metadata": {},
   "source": [
    "ANN: Multiclass Classification with a Neural Network: 10-digit MNIST dataset\n",
    "\n",
    "This notebook demonstrates how to train a neural network to classify handwritten digits from the 10-digit MNIST dataset. The neural network is implemented from scratch using only numpy. The neural network has one hidden layer with 100 neurons and uses the ReLU activation function. The output layer has 10 neurons, one for each digit, and uses the softmax activation function. The neural network is trained using the cross-entropy loss function and the Adam optimizer. The notebook also includes code to preprocess the data, train the neural network, and evaluate the model on the test set.\n",
    "\n",
    "The notebook is organized as follows:\n",
    "\n",
    "1. Load: code dependencies and the MNIST dataset\n",
    "2. Model: define the model of the neural network\n",
    "3. Loss: define the loss function and optimizer\n",
    "4. Fit: train the neural network\n",
    "5. Predict: make predictions on the test set and therefore evaluate the model"
   ]
  }
 ],
 "metadata": {
  "language_info": {
   "name": "python"
  }
 },
 "nbformat": 4,
 "nbformat_minor": 2
}
