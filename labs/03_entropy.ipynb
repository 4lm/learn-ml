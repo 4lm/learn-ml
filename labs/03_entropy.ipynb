{
 "cells": [
  {
   "cell_type": "code",
   "execution_count": 5,
   "metadata": {},
   "outputs": [],
   "source": [
    "import numpy as np\n",
    "\n",
    "def compute_entropy(y: np.ndarray) -> float:\n",
    "    entropy = 0.\n",
    "\n",
    "    m = len(y)\n",
    "    if m != 0:\n",
    "        p_1 = len(y[y==1]) / m\n",
    "        if p_1 != 0 and p_1 != 1:\n",
    "            p_0 = 1 - p_1\n",
    "            log_p_1 = np.sum(np.log2(p_1))\n",
    "            log_p_0 = np.sum(np.log2(p_0))\n",
    "            entropy = - p_1 * log_p_1 - p_0 * log_p_0      \n",
    "    \n",
    "    return entropy"
   ]
  },
  {
   "cell_type": "code",
   "execution_count": 6,
   "metadata": {},
   "outputs": [
    {
     "name": "stdout",
     "output_type": "stream",
     "text": [
      "0.0\n",
      "0.0\n",
      "0.0\n",
      "0.9182958340544896\n",
      "1.0\n"
     ]
    }
   ],
   "source": [
    "y = np.array([])\n",
    "\n",
    "e = compute_entropy(y)\n",
    "\n",
    "assert e == 0.\n",
    "\n",
    "print(e)\n",
    "\n",
    "y = np.array([0])\n",
    "\n",
    "e = compute_entropy(y)\n",
    "\n",
    "assert e == 0.\n",
    "\n",
    "print(e)\n",
    "\n",
    "y = np.array([1])\n",
    "\n",
    "e = compute_entropy(y)\n",
    "\n",
    "assert e == 0.\n",
    "\n",
    "print(e)\n",
    "\n",
    "y = np.array([1, 0, 1, 0, 1, 1, 1, 0, 1])\n",
    "\n",
    "e = compute_entropy(y)\n",
    "\n",
    "assert e == 0.9182958340544896\n",
    "\n",
    "print(e)\n",
    "\n",
    "y = np.array([1, 0, 1, 0, 1, 0])\n",
    "\n",
    "e = compute_entropy(y)\n",
    "\n",
    "assert e == 1\n",
    "\n",
    "print(e)"
   ]
  }
 ],
 "metadata": {
  "kernelspec": {
   "display_name": "venv",
   "language": "python",
   "name": "python3"
  },
  "language_info": {
   "codemirror_mode": {
    "name": "ipython",
    "version": 3
   },
   "file_extension": ".py",
   "mimetype": "text/x-python",
   "name": "python",
   "nbconvert_exporter": "python",
   "pygments_lexer": "ipython3",
   "version": "3.11.10"
  }
 },
 "nbformat": 4,
 "nbformat_minor": 2
}
